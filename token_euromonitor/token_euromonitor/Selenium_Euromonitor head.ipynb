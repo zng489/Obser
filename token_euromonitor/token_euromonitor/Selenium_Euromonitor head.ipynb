{
 "cells": [
  {
   "cell_type": "code",
   "execution_count": 16,
   "metadata": {},
   "outputs": [
    {
     "data": {
      "text/plain": [
       "'4.7.2'"
      ]
     },
     "execution_count": 16,
     "metadata": {},
     "output_type": "execute_result"
    }
   ],
   "source": [
    "import selenium\n",
    "selenium.__version__"
   ]
  },
  {
   "cell_type": "code",
   "execution_count": 2,
   "metadata": {},
   "outputs": [
    {
     "name": "stdout",
     "output_type": "stream",
     "text": [
      "200 OK\n"
     ]
    },
    {
     "ename": "TypeError",
     "evalue": "'NoneType' object is not subscriptable",
     "output_type": "error",
     "traceback": [
      "\u001b[1;31m---------------------------------------------------------------------------\u001b[0m",
      "\u001b[1;31mTypeError\u001b[0m                                 Traceback (most recent call last)",
      "Cell \u001b[1;32mIn[2], line 81\u001b[0m\n\u001b[0;32m     77\u001b[0m     \u001b[39mreturn\u001b[39;00m \u001b[39mprint\u001b[39m(token[\u001b[39m220\u001b[39m:\u001b[39m1779\u001b[39m])\n\u001b[0;32m     80\u001b[0m \u001b[39mif\u001b[39;00m \u001b[39m__name__\u001b[39m \u001b[39m==\u001b[39m \u001b[39m'\u001b[39m\u001b[39m__main__\u001b[39m\u001b[39m'\u001b[39m:\n\u001b[1;32m---> 81\u001b[0m   EUROMONITOR()\n",
      "Cell \u001b[1;32mIn[2], line 77\u001b[0m, in \u001b[0;36mEUROMONITOR\u001b[1;34m(**kwargs)\u001b[0m\n\u001b[0;32m     74\u001b[0m \u001b[39mprint\u001b[39m(click_first_button)\n\u001b[0;32m     76\u001b[0m time\u001b[39m.\u001b[39msleep(\u001b[39m50\u001b[39m)\n\u001b[1;32m---> 77\u001b[0m \u001b[39mreturn\u001b[39;00m \u001b[39mprint\u001b[39m(token[\u001b[39m220\u001b[39;49m:\u001b[39m1779\u001b[39;49m])\n",
      "\u001b[1;31mTypeError\u001b[0m: 'NoneType' object is not subscriptable"
     ]
    }
   ],
   "source": [
    "\n",
    "import requests\n",
    "from selenium import webdriver\n",
    "from selenium.webdriver.support.ui import WebDriverWait\n",
    "from selenium.webdriver.support import expected_conditions as EC\n",
    "from selenium.webdriver.common.by import By\n",
    "from selenium.common.exceptions import TimeoutException\n",
    "from selenium.webdriver.chrome.service import Service\n",
    "import time\n",
    "from selenium.webdriver.support.ui import Select\n",
    "\n",
    "def EUROMONITOR(**kwargs):\n",
    "\n",
    "    po_of_project =  \"Leno\"\n",
    "    header_of_project = {'User-Agent':'Mozilla/5.0 (Windows NT 10.0; Win64; x64) AppleWebKit/537.36 (KHTML, like Gecko) Chrome/108.0.0.0 Safari/537.36'}\n",
    "\n",
    "    option = webdriver.ChromeOptions()\n",
    "    option.add_argument('headless')\n",
    "    option.add_argument('--dns-prefetch-disable')\n",
    "\n",
    "    s=Service(\"chromedriver.exe\")\n",
    "\n",
    "\n",
    "    driver = webdriver.Chrome(service=s)\n",
    "\n",
    "    driver.get('https://api-portal.euromonitor.com/')\n",
    "\n",
    "    # zhang.yuan@senaicni.com.br\n",
    "    # Euromonitor12345\n",
    "    time.sleep(5)\n",
    "\n",
    "    #click_first_button = driver.find_element_by_xpath(\"/html/body/div/div[2]/nav/div/div[2]/ul[2]/li/a\").click()\n",
    "    #test.find_element(\"xpath\", \n",
    "    click_first_button = driver.find_element(\"xpath\", \"/html/body/div/div[2]/nav/div/div[2]/ul[2]/li/a\").click()\n",
    "\n",
    "    click = driver.find_element(\"xpath\", \"//*[@id='Username']\")\n",
    "    click.send_keys(\"zhang.yuan@senaicni.com.br\")\n",
    "\n",
    "    click = driver.find_element(\"xpath\", \"//*[@id='Password']\")\n",
    "    click.send_keys(\"Euromonitor12345\")\n",
    "    click_first_button = driver.find_element(\"xpath\", \"//*[@id='submit']\").click()\n",
    "\n",
    "\n",
    "\n",
    "    click_first_button = driver.find_element(\"xpath\", \"//*[@id='navigation']/div/div[2]/ul[1]/li[2]/a\").click()\n",
    "    time.sleep(3)\n",
    "    click_first_button = driver.find_element(\"xpath\", \"//*[@id='ap-container']/div[3]/div/div/main/ul/li[1]/h3/a\").click()\n",
    "    time.sleep(3)\n",
    "    click_first_button = driver.find_element(\"xpath\", \"//*[@id='btnOpenConsole']\").click()\n",
    "    time.sleep(3)\n",
    "\n",
    "\n",
    "    click_first_button = Select(driver.find_element(\"xpath\", \"//*[@id='authenticationType']\"))\n",
    "    time.sleep(5)\n",
    "    click_first_button.select_by_visible_text(\"Authorization code\")\n",
    "    time.sleep(5)\n",
    "\n",
    "\n",
    "\n",
    "    click_first_button = driver.find_element(\"xpath\", \"//*[@id='httpRequest']/span\").click()\n",
    "    time.sleep(5)\n",
    "\n",
    "\n",
    "    token = driver.find_element(\"xpath\", \"/html/body/div/div[3]/div/div[2]/main/article/div[4]/pre/code\").text\n",
    "    time.sleep(5)\n",
    "\n",
    "    click_first_button = driver.find_element(\"xpath\", \"/html/body/div/div[3]/div/div[2]/main/article/button\").click()\n",
    "    time.sleep(5)\n",
    "\n",
    "\n",
    "    click_first_button = driver.find_element(\"xpath\", \"/html/body/div/div[3]/div/div[2]/main/article/button\").click()\n",
    "\n",
    "\n",
    "    click_first_button = driver.find_element(\"xpath\", \"/html/body/div/div[3]/div/div[2]/main/div[2]/p\").text\n",
    "    print(click_first_button)\n",
    "    \n",
    "    time.sleep(50)\n",
    "    return print(token[220:1779])\n",
    "\n",
    "\n",
    "if __name__ == '__main__':\n",
    "  EUROMONITOR()"
   ]
  },
  {
   "cell_type": "code",
   "execution_count": null,
   "metadata": {},
   "outputs": [],
   "source": [
    "Bearer eyJhbGciOiJSUzI1NiIsImtpZCI6IjdBNzNGNzMzMDYwRDhEMTQ2Q0I1QkE4NUFBNkNGMjNDQkJBODA1NjciLCJ0eXAiOiJKV1QiLCJ4NXQiOiJlblAzTXdZTmpSUnN0YnFGcW16eVBMdW9CV2MifQ.eyJuYmYiOjE2NzQ3ODQ3NjAsImV4cCI6MTY3NDg3MTE2MCwiaXNzIjoiaHR0cHM6Ly9sb2dpbi5ldXJvbW9uaXRvci5jb20iLCJhdWQiOlsiaHR0cHM6Ly9sb2dpbi5ldXJvbW9uaXRvci5jb20vcmVzb3VyY2VzIiwiRXVyb21vbml0b3IuU3RhdGlzdGljcy5DYXRhbG9nU2VydmljZSIsIkV1cm9tb25pdG9yLk1lbWJlcnNoaXAuVXNlclNlcnZpY2UiLCJFdXJvbW9uaXRvci5TdGF0aXN0aWNzLk1hcmtldFNpemVTZXJ2aWNlIiwiRXVyb21vbml0b3IuU3RhdGlzdGljcy5BdXRob3Jpc2F0aW9uU2VydmljZSIsIkV1cm9tb25pdG9yLlN0YXRpc3RpY3MuQnJhbmRTaGFyZVNlcnZpY2UiLCJFdXJvbW9uaXRvci5TdGF0aXN0aWNzLkNvbXBhbnlTaGFyZVNlcnZpY2UiXSwiY2xpZW50X2lkIjoiNjFjMTBiZGY3MjZkNDRhODkyNDZhNDk1MDQ0N2RhNjkiLCJzdWIiOiIyMmJmODM2MC0yMTJlLTQ3OTUtYTFiYi1lYmIyNWVhNTU0MmQiLCJhdXRoX3RpbWUiOjE2NzQ3ODQ3MzgsImlkcCI6ImxvY2FsIiwic2NvcGUiOlsib3BlbmlkIiwiRXVyb21vbml0b3IuU3RhdGlzdGljcy5DYXRhbG9nU2VydmljZSIsIkV1cm9tb25pdG9yLk1lbWJlcnNoaXAuVXNlclNlcnZpY2UiLCJFdXJvbW9uaXRvci5TdGF0aXN0aWNzLk1hcmtldFNpemVTZXJ2aWNlIiwiRXVyb21vbml0b3IuU3RhdGlzdGljcy5BdXRob3Jpc2F0aW9uU2VydmljZSIsIkV1cm9tb25pdG9yLlN0YXRpc3RpY3MuQnJhbmRTaGFyZVNlcnZpY2UiLCJFdXJvbW9uaXRvci5TdGF0aXN0aWNzLkNvbXBhbnlTaGFyZVNlcnZpY2UiXSwiYW1yIjpbInB3ZCJdfQ.YEaD-B6-yRfrsNrPqUdF-aP2jAv_SqhJBlXWsp49gOzCHznDSJFUptVry8X22hKSNtvnwFhWvFTmECqE24YGKqyI1FHOnfh-MQ-wCSWQmriz4GCkvuZpuGEXudr32Mp7fNUSkEh1zgn5IdAWxHw5MvREeTL5uNE5rLNxT7MQ2lc6_56elqAOwwRlQE80N6NAO-eY-GnYXvnFHuE1uPYPnv8HrdnEzISOootJGsEVjADRgG4r3Qp7J4_vUd9b9lpTDZGEhqXz7kYxZ5BQYS_s_G_pjY_M2h4EhSxAKf4SMaTR4x6GUYb7bXP0GNtU2NG2O7s5CAhzh-doZ24Bd1SlZg"
   ]
  },
  {
   "cell_type": "code",
   "execution_count": null,
   "metadata": {},
   "outputs": [],
   "source": [
    "388b898900e04232b57412beaea09f24"
   ]
  }
 ],
 "metadata": {
  "kernelspec": {
   "display_name": "jupyter_conda_python_3.8",
   "language": "python",
   "name": "python3"
  },
  "language_info": {
   "codemirror_mode": {
    "name": "ipython",
    "version": 3
   },
   "file_extension": ".py",
   "mimetype": "text/x-python",
   "name": "python",
   "nbconvert_exporter": "python",
   "pygments_lexer": "ipython3",
   "version": "3.8.15"
  },
  "orig_nbformat": 4,
  "vscode": {
   "interpreter": {
    "hash": "d538487677c6430c14daaba8fb090a198c29fefe2a6e252bfcf0fadda39f0d85"
   }
  }
 },
 "nbformat": 4,
 "nbformat_minor": 2
}
